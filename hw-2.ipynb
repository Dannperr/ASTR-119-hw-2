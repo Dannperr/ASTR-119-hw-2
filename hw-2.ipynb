{
 "cells": [
  {
   "cell_type": "markdown",
   "metadata": {},
   "source": [
    "#### Author: Daniel Perez\n",
    "Description: We use matplotlib library to plot three functions on a single plot."
   ]
  },
  {
   "cell_type": "code",
   "execution_count": null,
   "metadata": {},
   "outputs": [],
   "source": [
    "import numpy as np\n",
    "import matplotlib.pyplot as plt\n",
    "%matplotlib inline"
   ]
  },
  {
   "cell_type": "code",
   "execution_count": null,
   "metadata": {},
   "outputs": [],
   "source": [
    "x = np.linspace(0, 2*np.pi, 1000)"
   ]
  },
  {
   "cell_type": "code",
   "execution_count": null,
   "metadata": {},
   "outputs": [],
   "source": [
    "def func_a(x):\n",
    "    return 5.5 *np.cos(2*x) + 5.5\n",
    "y_a = func_a(x)\n",
    "\n",
    "def func_b(x):\n",
    "    return .02 * np.exp(x)\n",
    "y_b = func_b(x)\n",
    "\n",
    "def func_c(x):\n",
    "    return 0.25 * x**2 + 0.1*np.sin(10*x)\n",
    "y_c = func_c(x)"
   ]
  },
  {
   "cell_type": "code",
   "execution_count": null,
   "metadata": {
    "scrolled": false
   },
   "outputs": [],
   "source": [
    "plt.plot(x, y_a)\n",
    "plt.plot(x, y_b)\n",
    "plt.plot(x, y_c)\n",
    "\n",
    " # we can be explicit about our range limits\n",
    "plt.xlim(0, 2*np.pi)\n",
    "plt.ylim(-1, 10)\n",
    "\n",
    "#plot labels\n",
    "plt.xlabel('Time in ASTR / EART 119')\n",
    "plt.ylabel('Measures of Awesomeness')"
   ]
  }
 ],
 "metadata": {
  "kernelspec": {
   "display_name": "Python 3",
   "language": "python",
   "name": "python3"
  },
  "language_info": {
   "codemirror_mode": {
    "name": "ipython",
    "version": 3
   },
   "file_extension": ".py",
   "mimetype": "text/x-python",
   "name": "python",
   "nbconvert_exporter": "python",
   "pygments_lexer": "ipython3",
   "version": "3.7.0"
  }
 },
 "nbformat": 4,
 "nbformat_minor": 2
}
